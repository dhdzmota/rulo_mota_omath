{
 "cells": [
  {
   "cell_type": "code",
   "execution_count": 1,
   "id": "e09aa4ce",
   "metadata": {
    "ExecuteTime": {
     "end_time": "2022-02-03T06:02:56.719006Z",
     "start_time": "2022-02-03T06:02:56.714813Z"
    }
   },
   "outputs": [
    {
     "name": "stdout",
     "output_type": "stream",
     "text": [
      "/Users/raul.sanchez/data_scientia/rulo_mota_omath\n"
     ]
    }
   ],
   "source": [
    "import os\n",
    "import sys\n",
    "\n",
    "prj_dir = os.path.abspath(os.getcwd() + '/..')\n",
    "print(prj_dir)\n",
    "sys.path.append(prj_dir)"
   ]
  },
  {
   "cell_type": "code",
   "execution_count": 2,
   "id": "848c366e",
   "metadata": {
    "ExecuteTime": {
     "end_time": "2022-02-03T06:03:00.601373Z",
     "start_time": "2022-02-03T06:02:57.024238Z"
    }
   },
   "outputs": [],
   "source": [
    "import pandas as pd\n",
    "import numpy as np\n",
    "from xgboost import XGBRegressor\n",
    "import shap\n",
    "\n",
    "from src.features import cnbv_inclusion_financiera\n",
    "from src.data import banxico_mun_income_remittances"
   ]
  },
  {
   "cell_type": "code",
   "execution_count": 3,
   "id": "a95a8f10",
   "metadata": {
    "ExecuteTime": {
     "end_time": "2022-02-03T06:03:00.673344Z",
     "start_time": "2022-02-03T06:03:00.604000Z"
    }
   },
   "outputs": [],
   "source": [
    "remittances_df = banxico_mun_income_remittances.get()\n",
    "remittances_df\n",
    "\n",
    "remittances_df['remittance_id'] = (\n",
    "    remittances_df['Municipality ID'].astype(str)\n",
    ") + '-' + (\n",
    "    remittances_df['Year'].astype(str))\n",
    "\n",
    "y_true = remittances_df.set_index('remittance_id')['Remittance Amount']\n",
    "y_true = np.log1p(y_true)"
   ]
  },
  {
   "cell_type": "code",
   "execution_count": 4,
   "id": "aafe418e",
   "metadata": {
    "ExecuteTime": {
     "end_time": "2022-02-03T06:03:00.682528Z",
     "start_time": "2022-02-03T06:03:00.675877Z"
    },
    "scrolled": false
   },
   "outputs": [
    {
     "data": {
      "text/plain": [
       "['BD Género Mun.csv',\n",
       " 'BD Tenencia Uso Banca Mun.csv',\n",
       " 'BD Infraestructura Mun.csv',\n",
       " 'BD Tenencia Uso EACP Mun.csv',\n",
       " 'Municipios.csv',\n",
       " 'BD Uso Banca Mun.csv',\n",
       " 'BD Acceso Mun.csv',\n",
       " 'BD Uso Mun.csv',\n",
       " 'BD Uso EACP Mun.csv']"
      ]
     },
     "execution_count": 4,
     "metadata": {},
     "output_type": "execute_result"
    }
   ],
   "source": [
    "data_paths = dict(\n",
    "    (x.split('/')[-1], x)\n",
    "    for x in cnbv_inclusion_financiera.list_datasets())\n",
    "\n",
    "list(data_paths.keys())"
   ]
  },
  {
   "cell_type": "code",
   "execution_count": 13,
   "id": "9a67eac3",
   "metadata": {
    "ExecuteTime": {
     "end_time": "2022-02-03T06:08:55.631633Z",
     "start_time": "2022-02-03T06:08:55.625720Z"
    }
   },
   "outputs": [
    {
     "data": {
      "text/plain": [
       "0         True\n",
       "1         True\n",
       "2         True\n",
       "3         True\n",
       "4         True\n",
       "         ...  \n",
       "88467    False\n",
       "88468    False\n",
       "88469    False\n",
       "88470    False\n",
       "88471    False\n",
       "Name: informacion_general__clave_estado, Length: 88472, dtype: bool"
      ]
     },
     "execution_count": 13,
     "metadata": {},
     "output_type": "execute_result"
    }
   ],
   "source": [
    "\n",
    "#['municipio_feature'].notnull()"
   ]
  },
  {
   "cell_type": "code",
   "execution_count": null,
   "id": "92b88cf1",
   "metadata": {
    "ExecuteTime": {
     "start_time": "2022-02-03T06:09:37.052Z"
    },
    "scrolled": false
   },
   "outputs": [],
   "source": [
    "for dataset_name, path in data_paths.items():\n",
    "    if dataset_name == 'Municipios.csv':\n",
    "        continue\n",
    "        \n",
    "    data = pd.read_csv(path)\n",
    "    data['name'] = data['name'].apply(lambda x: x.replace('%20', '_'))\n",
    "\n",
    "    if 'informacion_general__clave_municipio' in data.columns:\n",
    "        municipio_feature = 'informacion_general__clave_municipio'\n",
    "    elif 'clave_de_estado_y_municipio' in data.columns:\n",
    "        municipio_feature = 'clave_de_estado_y_municipio'\n",
    "    else:\n",
    "        municipio_feature = 'clave_municipio'\n",
    "        \n",
    "    data = data[data[municipio_feature].notnull()]\n",
    "    data['remittance_id'] = data[municipio_feature].astype(int).astype(str)\n",
    "\n",
    "    data['year'] = data['name'].apply(\n",
    "        lambda x: x.split('_')[-1].replace('.csv', '')[:4]\n",
    "    ).astype(int)\n",
    "    data['remittance_year'] = data['year'] - 1\n",
    "    data['remittance_id'] += '-' + data['remittance_year'].astype(str)\n",
    "\n",
    "    data.drop_duplicates('remittance_id', keep='first', inplace=True)\n",
    "    data.set_index('remittance_id', inplace=True)\n",
    "\n",
    "    valid_idxs = set(data.index).intersection(y_true.index)\n",
    "    X = data.loc[valid_idxs].select_dtypes(['float', 'int'])\n",
    "    y = y_true.loc[valid_idxs]\n",
    "\n",
    "    model = XGBRegressor(\n",
    "        learning_rate=0.1, \n",
    "        max_depth=8, \n",
    "        n_estimators=1000)\n",
    "\n",
    "    model.fit(X, y)\n",
    "    \n",
    "    explainer = shap.TreeExplainer(model)\n",
    "\n",
    "    shap_values = explainer.shap_values(\n",
    "        X, \n",
    "        check_additivity=False)\n",
    "\n",
    "    shap.summary_plot(\n",
    "        shap_values, X, \n",
    "        max_display=40)"
   ]
  },
  {
   "cell_type": "code",
   "execution_count": null,
   "id": "6d3ef00f",
   "metadata": {},
   "outputs": [],
   "source": []
  }
 ],
 "metadata": {
  "kernelspec": {
   "display_name": "Python 3",
   "language": "python",
   "name": "python3"
  },
  "language_info": {
   "codemirror_mode": {
    "name": "ipython",
    "version": 3
   },
   "file_extension": ".py",
   "mimetype": "text/x-python",
   "name": "python",
   "nbconvert_exporter": "python",
   "pygments_lexer": "ipython3",
   "version": "3.7.3"
  }
 },
 "nbformat": 4,
 "nbformat_minor": 5
}

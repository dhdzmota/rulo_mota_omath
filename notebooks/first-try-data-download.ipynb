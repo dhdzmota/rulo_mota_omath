{
 "cells": [
  {
   "cell_type": "code",
   "execution_count": 1,
   "id": "13bfe92f",
   "metadata": {
    "ExecuteTime": {
     "end_time": "2022-02-02T03:54:44.823122Z",
     "start_time": "2022-02-02T03:54:43.978914Z"
    }
   },
   "outputs": [],
   "source": [
    "import requests\n",
    "from bs4 import BeautifulSoup\n",
    "import xlrd\n",
    "import pandas as pd\n",
    "import unidecode"
   ]
  },
  {
   "cell_type": "code",
   "execution_count": 2,
   "id": "033596e4",
   "metadata": {
    "ExecuteTime": {
     "end_time": "2022-02-02T03:54:44.863629Z",
     "start_time": "2022-02-02T03:54:44.853057Z"
    }
   },
   "outputs": [],
   "source": [
    "def get_columns(df):\n",
    "    \"\"\"\n",
    "    \"\"\"\n",
    "    create_new_df_for_columns = []\n",
    "    three_count = 0\n",
    "    counter = 0\n",
    "    while three_count != 3:\n",
    "        elements = list(df.iloc[counter])\n",
    "        new_list = []\n",
    "        important_element = ''\n",
    "        for val in elements[:]:\n",
    "            if val == '':\n",
    "                important_element = important_element\n",
    "            else:\n",
    "                important_element = val\n",
    "            new_list.append(important_element)\n",
    "        lenghts = len(new_list) - new_list.count('')\n",
    "        if lenghts:\n",
    "            three_count += 1\n",
    "            create_new_df_for_columns.append(new_list)\n",
    "        else:\n",
    "            three_count=0\n",
    "        counter +=1\n",
    "    col_df = pd.DataFrame(create_new_df_for_columns[:-2])\n",
    "    for col in col_df.columns:\n",
    "        col_df[col] = col_df[col].astype('str')\n",
    "    columns = list(col_df.apply(lambda x: x + ' ').sum())\n",
    "        \n",
    "    return columns\n",
    "\n",
    "\n",
    "def clean_text(txt):\n",
    "    \"\"\"\n",
    "    \"\"\"\n",
    "    txt = txt.lower()\n",
    "    txt = unidecode.unidecode(txt)\n",
    "    txt = txt.replace('\\n', ' ')\n",
    "    txt = txt.replace('  ', ' ')\n",
    "    txt = txt.strip(' ')\n",
    "    txt = txt.replace(' ', '_')\n",
    "    return txt\n",
    "\n",
    "def clean_dataframe(df):\n",
    "    \"\"\"\n",
    "    \"\"\"\n",
    "    new_columns = pd.Series(get_columns(df))\n",
    "    df.columns = new_columns.apply(clean_text)\n",
    "    nan_in_cols = df.replace('', None).isna().sum()\n",
    "    cols = nan_in_cols[nan_in_cols <= 10*nan_in_cols.median()].index\n",
    "    df = df[cols]\n",
    "    nan_in_rows = df.replace('', None).T.isna().sum()\n",
    "    rows = nan_in_rows[nan_in_rows <= 10*nan_in_rows.median()].index\n",
    "    df = df.loc[rows].reset_index(drop=True)\n",
    "    df = df.iloc[1:].reset_index(drop=True)\n",
    "    return df\n",
    "\n",
    "def read_workbook(path):\n",
    "    \"\"\"\n",
    "    \"\"\"\n",
    "    xl_info = requests.get(path)\n",
    "    workbook = xlrd.open_workbook(file_contents=xl_info.content)\n",
    "    return workbook"
   ]
  },
  {
   "cell_type": "code",
   "execution_count": 3,
   "id": "06bc763f",
   "metadata": {
    "ExecuteTime": {
     "end_time": "2022-02-02T03:54:49.086686Z",
     "start_time": "2022-02-02T03:54:48.613820Z"
    }
   },
   "outputs": [
    {
     "name": "stdout",
     "output_type": "stream",
     "text": [
      "element does not contain href\n",
      "element does not contain href\n",
      "element does not contain href\n"
     ]
    }
   ],
   "source": [
    "# URL deseada para obtener la información:\n",
    "url = 'https://www.gob.mx/cnbv/acciones-y-programas/bases-de-datos-de-inclusion-financiera'\n",
    "# Obtener una respuesta.\n",
    "html = requests.get(url)\n",
    "if not html.ok:\n",
    "    print('Response is between 400 and 600.', html.reason)\n",
    "# Obtener el contenido\n",
    "html_content = html.content\n",
    "# Hacer una sopa bonita para buscar contenido de manera sencilla\n",
    "soup = BeautifulSoup(html_content)\n",
    "\n",
    "link_list = []\n",
    "# En este caso los hipervínculos de interés están en a\n",
    "for a_element in soup.find_all('a'):\n",
    "    try:\n",
    "        'Agarramos esos hipervínculos'\n",
    "        link = a_element.__getitem__('href')\n",
    "        link_list.append(link)\n",
    "    except KeyError:\n",
    "        print('element does not contain href')\n",
    "        \n",
    "excel_links = [excel_dataset_link for excel_dataset_link in link_list if 'xls' in excel_dataset_link]"
   ]
  },
  {
   "cell_type": "code",
   "execution_count": 4,
   "id": "72749d11",
   "metadata": {},
   "outputs": [
    {
     "name": "stdout",
     "output_type": "stream",
     "text": [
      "Base_de_Datos_de_Inclusion_Financiera_202106.xlsm|BD Infraestructura Mun\n",
      "Base_de_Datos_de_Inclusion_Financiera_202106.xlsm|BD Tenencia Uso Banca Mun\n",
      "Base_de_Datos_de_Inclusion_Financiera_202106.xlsm|BD Tenencia Uso EACP Mun\n",
      "Base_de_Datos_de_Inclusion_Financiera_202106.xlsm|BD Género Mun\n",
      "Base_de_Datos_de_Inclusion_Financiera_202103.xlsm|BD Infraestructura Mun\n",
      "Base_de_Datos_de_Inclusion_Financiera_202103.xlsm|BD Tenencia Uso Banca Mun\n",
      "Base_de_Datos_de_Inclusion_Financiera_202103.xlsm|BD Tenencia Uso EACP Mun\n",
      "Base_de_Datos_de_Inclusion_Financiera_202103.xlsm|BD Género Mun\n",
      "Base_de_Datos_de_Inclusion_Financiera_202012.xlsm|BD Infraestructura Mun\n",
      "Base_de_Datos_de_Inclusion_Financiera_202012.xlsm|BD Tenencia Uso Banca Mun\n",
      "Base_de_Datos_de_Inclusion_Financiera_202012.xlsm|BD Tenencia Uso EACP Mun\n",
      "Base_de_Datos_de_Inclusion_Financiera_202012.xlsm|BD Género Mun\n",
      "Base_de_Datos_de_Inclusion_Financiera_202009.xlsm|BD Infraestructura Mun\n",
      "Base_de_Datos_de_Inclusion_Financiera_202009.xlsm|BD Tenencia Uso Banca Mun\n",
      "Base_de_Datos_de_Inclusion_Financiera_202009.xlsm|BD Tenencia Uso EACP Mun\n",
      "Base_de_Datos_de_Inclusion_Financiera_202009.xlsm|BD Género Mun\n",
      "Base_de_Datos_de_Inclusion_Financiera_202006.xlsm|BD Infraestructura Mun\n",
      "Base_de_Datos_de_Inclusion_Financiera_202006.xlsm|BD Tenencia Uso Banca Mun\n",
      "Base_de_Datos_de_Inclusion_Financiera_202006.xlsm|BD Tenencia Uso EACP Mun\n",
      "Base_de_Datos_de_Inclusion_Financiera_202006.xlsm|BD Género Mun\n",
      "Base_de_Datos_de_Inclusion_Financiera_202003.xlsm|BD Infraestructura Mun\n",
      "Base_de_Datos_de_Inclusion_Financiera_202003.xlsm|BD Tenencia Uso Banca Mun\n",
      "Base_de_Datos_de_Inclusion_Financiera_202003.xlsm|BD Tenencia Uso EACP Mun\n",
      "Base_de_Datos_de_Inclusion_Financiera_202003.xlsm|BD Género Mun\n",
      "Base_de_Datos_de_Inclusion_Financiera_201912.xlsm|BD Infraestructura Mun\n",
      "Base_de_Datos_de_Inclusion_Financiera_201912.xlsm|BD Tenencia Uso Banca Mun\n",
      "Base_de_Datos_de_Inclusion_Financiera_201912.xlsm|BD Tenencia Uso EACP Mun\n",
      "Base_de_Datos_de_Inclusion_Financiera_201912.xlsm|BD Género Mun\n",
      "Base_de_Datos_de_Inclusion_Financiera_201909.xlsm|BD Infraestructura Mun\n",
      "Base_de_Datos_de_Inclusion_Financiera_201909.xlsm|BD Tenencia Uso Banca Mun\n",
      "Base_de_Datos_de_Inclusion_Financiera_201909.xlsm|BD Tenencia Uso EACP Mun\n",
      "Base_de_Datos_de_Inclusion_Financiera_201909.xlsm|BD Género Mun\n",
      "Base_de_Datos_de_Inclusion_Financiera_201906.xlsm|BD Infraestructura Mun\n",
      "Base_de_Datos_de_Inclusion_Financiera_201906.xlsm|BD Tenencia Uso Banca Mun\n",
      "Base_de_Datos_de_Inclusion_Financiera_201906.xlsm|BD Tenencia Uso EACP Mun\n",
      "Base_de_Datos_de_Inclusion_Financiera_201906.xlsm|BD Género Mun\n",
      "Base_de_Datos_de_Inclusion_Financiera_201903.xlsm|BD Infraestructura Mun\n",
      "Base_de_Datos_de_Inclusion_Financiera_201903.xlsm|BD Tenencia Uso Banca Mun\n",
      "Base_de_Datos_de_Inclusion_Financiera_201903.xlsm|BD Tenencia Uso EACP Mun\n",
      "Base_de_Datos_de_Inclusion_Financiera_201903.xlsm|BD Género Mun\n",
      "Base_de_Datos_de_Inclusion_Financiera_201812.xlsm|BD Acceso Mun\n",
      "Base_de_Datos_de_Inclusion_Financiera_201812.xlsm|BD Uso Banca Mun\n",
      "Base_de_Datos_de_Inclusion_Financiera_201812.xlsm|BD Uso EACP Mun\n",
      "Base_de_Datos_de_Inclusion_Financiera_201812.xlsm|BD Género Mun\n",
      "Base_de_Datos_de_Inclusion_Financiera_201809.xlsm|BD Acceso Mun\n",
      "Base_de_Datos_de_Inclusion_Financiera_201809.xlsm|BD Uso Banca Mun\n",
      "Base_de_Datos_de_Inclusion_Financiera_201809.xlsm|BD Uso EACP Mun\n",
      "Base_de_Datos_de_Inclusion_Financiera_201809.xlsm|BD Género Mun\n",
      "Base_de_Datos_de_Inclusion_Financiera_201806.xlsm|BD Acceso Mun\n",
      "Base_de_Datos_de_Inclusion_Financiera_201806.xlsm|BD Uso Banca Mun\n",
      "Base_de_Datos_de_Inclusion_Financiera_201806.xlsm|BD Uso EACP Mun\n",
      "Base_de_Datos_de_Inclusion_Financiera_201806.xlsm|BD Género Mun\n",
      "Base%20de%20Datos%20de%20Inclusion%20Financiera%20201803.xlsm|BD Acceso Mun\n",
      "Base%20de%20Datos%20de%20Inclusion%20Financiera%20201803.xlsm|BD Uso Banca Mun\n",
      "Base%20de%20Datos%20de%20Inclusion%20Financiera%20201803.xlsm|BD Uso EACP Mun\n",
      "Base%20de%20Datos%20de%20Inclusion%20Financiera%20201803.xlsm|BD Género Mun\n",
      "Base%20de%20Datos%20de%20Inclusi%C3%B3n%20Financiera%20201712.xlsm|BD Acceso Mun\n",
      "Base%20de%20Datos%20de%20Inclusi%C3%B3n%20Financiera%20201712.xlsm|BD Uso Mun\n",
      "Base%20de%20Datos%20de%20Inclusi%C3%B3n%20Financiera%20201712.xlsm|BD Uso EACP Mun\n",
      "Base%20de%20Datos%20de%20Inclusi%C3%B3n%20Financiera%20201709.xlsm|BD Acceso Mun\n",
      "Base%20de%20Datos%20de%20Inclusi%C3%B3n%20Financiera%20201709.xlsm|BD Uso Mun\n",
      "Base%20de%20Datos%20de%20Inclusi%C3%B3n%20Financiera%20201709.xlsm|BD Uso EACP Mun\n",
      "Base%20de%20Datos%20de%20Inclusi%C3%B3n%20Financiera%20201706.xlsm|BD Acceso Mun\n",
      "Base%20de%20Datos%20de%20Inclusi%C3%B3n%20Financiera%20201706.xlsm|BD Uso Mun\n",
      "Base%20de%20Datos%20de%20Inclusi%C3%B3n%20Financiera%20201706.xlsm|BD Uso EACP Mun\n",
      "Base%20de%20Datos%20de%20Inclusi%C3%B3n%20Financiera%20201703.xlsm|BD Acceso Mun\n",
      "Base%20de%20Datos%20de%20Inclusi%C3%B3n%20Financiera%20201703.xlsm|BD Uso Mun\n",
      "Base%20de%20Datos%20de%20Inclusi%C3%B3n%20Financiera%20201703.xlsm|BD Uso EACP Mun\n",
      "Base%20de%20Datos%20de%20Inclusi%C3%B3n%20Financiera%20201612.xlsm|BD Acceso Mun\n",
      "Base%20de%20Datos%20de%20Inclusi%C3%B3n%20Financiera%20201612.xlsm|BD Uso Mun\n",
      "Base%20de%20Datos%20de%20Inclusi%C3%B3n%20Financiera%20201612.xlsm|BD Uso EACP Mun\n",
      "Base%20de%20Datos%20IF%20201606.xlsm|BD Acceso Mun\n",
      "Base%20de%20Datos%20IF%20201606.xlsm|BD Uso Mun\n",
      "Base%20de%20Datos%20IF%20201606.xlsm|BD Uso EACP Mun\n",
      "BDIF%20201606.xlsm|BD Acceso Mun\n",
      "BDIF%20201606.xlsm|BD Uso Mun\n",
      "BDIF%20201606.xlsm|BD Uso EACP Mun\n",
      "Base%20de%20Datos%20IF%20201603.xlsm|BD Acceso Mun\n",
      "Base%20de%20Datos%20IF%20201603.xlsm|BD Uso Mun\n",
      "Base%20de%20Datos%20IF%20201603.xlsm|BD Uso EACP Mun\n",
      "Base%20de%20Datos%20IF%20201512.xlsm|BD Acceso Mun\n",
      "Base%20de%20Datos%20IF%20201512.xlsm|BD Uso Mun\n",
      "Base%20de%20Datos%20IF%20201512.xlsm|BD Uso EACP Mun\n",
      "Base%20de%20Datos%20IF%20201509.xlsm|BD Acceso Mun\n",
      "Base%20de%20Datos%20IF%20201509.xlsm|BD Uso Mun\n",
      "Base%20de%20Datos%20IF%20201509.xlsm|BD Uso EACP Mun\n",
      "Base%20de%20Datos%20IF%20201506.xlsm|BD Acceso Mun\n",
      "Base%20de%20Datos%20IF%20201506.xlsm|BD Uso Mun\n",
      "Base%20de%20Datos%20IF%20201506.xlsm|BD Uso EACP Mun\n",
      "Base%20de%20Datos%20IF%20201503.xlsx|BD Acceso Mun\n",
      "Base%20de%20Datos%20IF%20201503.xlsx|BD Uso Mun\n",
      "Base%20de%20Datos%20IF%20201503.xlsx|BD Uso EACP Mun\n",
      "Base%20de%20Datos%20IF%20201412.xlsm|BD Acceso Mun\n",
      "Base%20de%20Datos%20IF%20201412.xlsm|BD Uso Mun\n",
      "Base%20de%20Datos%20IF%20201412.xlsm|BD Uso EACP Mun\n",
      "Base%20de%20Datos%20IF%20201409.xlsm|BD Acceso Mun\n",
      "Base%20de%20Datos%20IF%20201409.xlsm|BD Uso Mun\n",
      "Base%20de%20Datos%20IF%20201409.xlsm|BD Uso EACP Mun\n",
      "Base%20de%20Datos%20IF%20201406.xlsm|BD Acceso Mun\n",
      "Base%20de%20Datos%20IF%20201406.xlsm|BD Uso Mun\n",
      "Base%20de%20Datos%20IF%20201406.xlsm|BD Uso EACP Mun\n",
      "Base%20de%20Datos%20IF%20201403.xlsm|BD Acceso Mun\n",
      "Base%20de%20Datos%20IF%20201403.xlsm|BD Uso Mun\n",
      "Base%20de%20Datos%20IF%20201403.xlsm|BD Uso EACP Mun\n",
      "Base%20de%20Datos%20IF%20201312.xlsm|BD Acceso Mun\n",
      "Base%20de%20Datos%20IF%20201312.xlsm|BD Uso Mun\n",
      "Base%20de%20Datos%20IF%20201312.xlsm|BD Uso EACP Mun\n",
      "Base%20de%20Datos%20IF%20201309.xlsm|BD Acceso Mun\n",
      "Base%20de%20Datos%20IF%20201309.xlsm|BD Uso Mun\n",
      "Base%20de%20Datos%20IF%20201309.xlsm|BD Uso EACP Mun\n",
      "Base%20de%20Datos%20IF%20201306.xlsm|BD Acceso Mun\n",
      "Base%20de%20Datos%20IF%20201306.xlsm|BD Uso Mun\n",
      "Base%20de%20Datos%20IF%20201306.xlsm|BD Uso EACP Mun\n",
      "Base%20de%20Datos%20IF%20201303.xlsm|BD Acceso Mun\n",
      "Base%20de%20Datos%20IF%20201303.xlsm|BD Uso Mun\n",
      "Base%20de%20Datos%20IF%20201303.xlsm|BD Uso EACP Mun\n",
      "Base%20de%20Datos%20IF%20201212.xlsm|BD Acceso Mun\n",
      "Base%20de%20Datos%20IF%20201212.xlsm|BD Uso Mun\n",
      "Base%20de%20Datos%20IF%20201212.xlsm|BD Uso EACP Mun\n",
      "Base%20de%20Datos%20IF%20201209.xlsx|BD Acceso Mun\n",
      "Base%20de%20Datos%20IF%20201209.xlsx|BD Uso Mun\n",
      "Base%20de%20Datos%20IF%20201209.xlsx|BD Uso EACP Mun\n",
      "Base%20de%20Datos%20IF%20201206.xlsx|BD Acceso Mun\n",
      "Base%20de%20Datos%20IF%20201206.xlsx|BD Uso Mun\n",
      "Base%20de%20Datos%20IF%20201206.xlsx|BD Uso EACP Mun\n",
      "Base%20de%20Datos%20IF%20201203.xlsx|BD Acceso Mun\n",
      "Base%20de%20Datos%20IF%20201203.xlsx|BD Uso Mun\n",
      "Base%20de%20Datos%20IF%20201203.xlsx|BD Uso EACP Mun\n",
      "Base%20de%20Datos%20IF%20201112.xlsx|BD Acceso Mun\n",
      "Base%20de%20Datos%20IF%20201112.xlsx|BD Uso Mun\n",
      "Base%20de%20Datos%20IF%20201112.xlsx|BD Uso EACP Mun\n",
      "Base%20de%20Datos%20IF%20201109.xls|BD Acceso Mun\n",
      "Base%20de%20Datos%20IF%20201109.xls|BD Uso Mun\n",
      "Base%20de%20Datos%20IF%20201109.xls|BD Uso EACP Mun\n"
     ]
    },
    {
     "name": "stdout",
     "output_type": "stream",
     "text": [
      "Base%20de%20Datos%20IF%20201106.xlsx|BD Acceso Mun\n",
      "Base%20de%20Datos%20IF%20201106.xlsx|BD Uso Mun\n",
      "Base%20de%20Datos%20IF%20201106.xlsx|BD Uso EACP Mun\n",
      "Base%20de%20Datos%20IF%20201103.xlsx|BD Acceso Mun\n",
      "Base%20de%20Datos%20IF%20201103.xlsx|BD Uso Mun\n",
      "Base%20de%20Datos%20IF%20201103.xlsx|BD Uso EACP Mun\n",
      "Base%20de%20Datos%20IF%20201012.xlsx|BD Acceso Mun\n",
      "Base%20de%20Datos%20IF%20201012.xlsx|BD Uso Mun\n",
      "Base%20de%20Datos%20IF%20201012.xlsx|BD Uso EACP Mun\n",
      "Base%20de%20Datos%20IF%20201009.xlsx|BD Acceso Mun\n",
      "Base%20de%20Datos%20IF%20201009.xlsx|BD Uso Mun\n",
      "Base%20de%20Datos%20IF%20201009.xlsx|BD Uso EACP Mun\n",
      "Base%20de%20Datos%20IF%20201006.xlsx|BD Acceso Mun\n",
      "Base%20de%20Datos%20IF%20201006.xlsx|BD Uso Mun\n",
      "Base%20de%20Datos%20IF%20201003.xlsx|BD Acceso Mun\n",
      "Base%20de%20Datos%20IF%20201003.xlsx|BD Uso Mun\n",
      "Base%20de%20Datos%20IF%20200912.xlsx|Municipios\n"
     ]
    }
   ],
   "source": [
    "clean_info = []\n",
    "raw_info = []\n",
    "clean_dict = {}\n",
    "not_info_as_expected = []\n",
    "for excel_path in excel_links:\n",
    "    workbook = read_workbook(excel_path)\n",
    "    workbook_sheet_names = workbook.sheet_names()\n",
    "    desired_sheet_set = [mun_sheet for mun_sheet in workbook_sheet_names if 'Mun' in mun_sheet]\n",
    "    for desired_sheet in desired_sheet_set:\n",
    "        if desired_sheet:\n",
    "            df = pd.DataFrame(workbook.sheet_by_name(desired_sheet)._cell_values)\n",
    "            raw_info.append(df)\n",
    "            df = clean_dataframe(df.copy())\n",
    "            name = excel_path.split('/')[-1]\n",
    "            date = name.replace('%20', '_').split('_')[-1]\n",
    "            date = date.split('.')[0]\n",
    "            df['name'] = name\n",
    "            df['sheet_name'] = desired_sheet\n",
    "            df['url'] = excel_path\n",
    "            df['date'] = date\n",
    "            clean_info.append(df)\n",
    "            if clean_dict.get(desired_sheet) is None:\n",
    "                clean_dict[desired_sheet] = []\n",
    "            else:\n",
    "                clean_dict[desired_sheet].append(df)\n",
    "            print(name, desired_sheet, sep='|')\n",
    "        else:\n",
    "            not_info_as_expected.append(excel_path)"
   ]
  },
  {
   "cell_type": "code",
   "execution_count": 5,
   "id": "c5923415",
   "metadata": {},
   "outputs": [
    {
     "data": {
      "text/plain": [
       "dict_keys(['BD Infraestructura Mun', 'BD Tenencia Uso Banca Mun', 'BD Tenencia Uso EACP Mun', 'BD Género Mun', 'BD Acceso Mun', 'BD Uso Banca Mun', 'BD Uso EACP Mun', 'BD Uso Mun', 'Municipios'])"
      ]
     },
     "execution_count": 5,
     "metadata": {},
     "output_type": "execute_result"
    }
   ],
   "source": [
    "clean_dict.keys()"
   ]
  },
  {
   "cell_type": "code",
   "execution_count": 85,
   "id": "8e67eb56",
   "metadata": {},
   "outputs": [],
   "source": [
    "bd_infraestructura_mun = pd.concat(clean_dict['BD Infraestructura Mun'])"
   ]
  },
  {
   "cell_type": "code",
   "execution_count": 12,
   "id": "85523c58",
   "metadata": {},
   "outputs": [],
   "source": [
    "bd_tendencia_uso_banca_mun = pd.concat(clean_dict['BD Tenencia Uso Banca Mun'])"
   ]
  },
  {
   "cell_type": "code",
   "execution_count": 14,
   "id": "1eaeb55a",
   "metadata": {},
   "outputs": [],
   "source": [
    "bd_tendencia_uso_eacp_mun = pd.concat(clean_dict['BD Tenencia Uso EACP Mun'])"
   ]
  },
  {
   "cell_type": "code",
   "execution_count": 15,
   "id": "864fd6b1",
   "metadata": {},
   "outputs": [],
   "source": [
    "bd_genero_mun = pd.concat(clean_dict['BD Género Mun'])"
   ]
  },
  {
   "cell_type": "code",
   "execution_count": 22,
   "id": "362f7b3c",
   "metadata": {},
   "outputs": [],
   "source": [
    "def get_unique_id(df):\n",
    "    clave = df.informacion_general_clave_municipio.astype('int').astype('str')\n",
    "    fecha = df.date.astype('str').apply(lambda x: x)\n",
    "    df['clave_unica'] = clave + '_' + fecha\n",
    "    return df"
   ]
  },
  {
   "cell_type": "code",
   "execution_count": 72,
   "id": "3f24e49a",
   "metadata": {},
   "outputs": [],
   "source": [
    "bd_tendencia_uso_banca_mun = get_unique_id(bd_tendencia_uso_banca_mun)\n",
    "bd_tendencia_uso_eacp_mun = get_unique_id(bd_tendencia_uso_eacp_mun)\n",
    "bd_infraestructura_mun = get_unique_id(bd_infraestructura_mun)\n",
    "bd_genero_mun = get_unique_id(bd_genero_mun)"
   ]
  },
  {
   "cell_type": "code",
   "execution_count": 73,
   "id": "51d5b27a",
   "metadata": {},
   "outputs": [],
   "source": [
    "nan_gstuff = bd_genero_mun[bd_genero_mun.date.isin(['202103', '202003', '201903'])].isna().sum()\n",
    "non_write_colsg = nan_gstuff[nan_gstuff>1].index\n",
    "simple_bd_genero_mun = bd_genero_mun.drop(non_write_colsg, axis=1)"
   ]
  },
  {
   "cell_type": "code",
   "execution_count": 74,
   "id": "e397bc8c",
   "metadata": {},
   "outputs": [],
   "source": [
    "drop_cols = ['date',\n",
    " 'indicadores_(transacciones_por_cada_10,000_adultos)_transacciones_en_cajeros_automaticos',\n",
    " 'indicadores_(transacciones_por_cada_10,000_adultos)_transacciones_en_tpv',\n",
    " 'indicadores_demograficos_(contratos_por_cada_10,000_adultos)_captacion_depositos_a_plazo',\n",
    " 'indicadores_demograficos_(contratos_por_cada_10,000_adultos)_captacion_tarjetas_de_debito',\n",
    " 'informacion_general_clave_estado',\n",
    " 'informacion_general_clave_municipio',\n",
    " 'informacion_general_estado',\n",
    " 'informacion_general_municipio',\n",
    " 'informacion_general_poblacion',\n",
    " 'informacion_general_poblacion_adulta',\n",
    " 'informacion_general_poblacion_adulta_hombres',\n",
    " 'informacion_general_poblacion_adulta_mujeres',\n",
    " 'informacion_general_region',\n",
    " 'informacion_general_tipo_de_poblacion',\n",
    " 'name',\n",
    " 'sheet_name',\n",
    " 'url']\n",
    "\n",
    "drop_cols2 = [ 'date',\n",
    " 'informacion_general_clave_estado',\n",
    " 'informacion_general_clave_municipio',\n",
    " 'informacion_general_estado',\n",
    " 'informacion_general_municipio',\n",
    " 'informacion_general_poblacion',\n",
    " 'informacion_general_poblacion_adulta',\n",
    " 'informacion_general_poblacion_adulta_hombres',\n",
    " 'informacion_general_poblacion_adulta_mujeres',\n",
    " 'informacion_general_region',\n",
    " 'informacion_general_tipo_de_poblacion',\n",
    " 'name',\n",
    " 'sheet_name',\n",
    " 'url']"
   ]
  },
  {
   "cell_type": "code",
   "execution_count": 75,
   "id": "0d15a1f0",
   "metadata": {},
   "outputs": [],
   "source": [
    "general_data = bd_tendencia_uso_banca_mun.merge(\n",
    "    bd_tendencia_uso_eacp_mun.drop(drop_cols, axis=1), on='clave_unica', how='left'\n",
    ").merge(\n",
    "    bd_infraestructura_mun.drop(drop_cols2, axis=1), on='clave_unica', how='left'\n",
    ")\n",
    "nan_stuff = general_data.isna().sum()\n",
    "non_write_cols = nan_stuff[nan_stuff>1].index\n",
    "general_data = general_data.drop(non_write_cols, axis=1)\n",
    "simplified_data = general_data[general_data.clave_unica.str.endswith('03')]"
   ]
  },
  {
   "cell_type": "code",
   "execution_count": 79,
   "id": "bbe4bafc",
   "metadata": {},
   "outputs": [],
   "source": [
    "drop_cols3 =[ 'date',\n",
    " 'informacion_general_clave_estado',\n",
    " 'informacion_general_clave_municipio',\n",
    " 'informacion_general_estado',\n",
    " 'informacion_general_municipio',\n",
    " 'informacion_general_poblacion',\n",
    " 'informacion_general_poblacion_adulta',\n",
    " 'informacion_general_poblacion_adulta_hombres',\n",
    " 'informacion_general_poblacion_adulta_mujeres',\n",
    " 'informacion_general_region',\n",
    " 'informacion_general_tipo_de_poblacion',\n",
    " 'name',\n",
    " 'sheet_name',\n",
    " 'url'\n",
    "]\n",
    "simplified_data2 = simplified_data.merge(\n",
    "    simple_bd_genero_mun.drop(drop_cols3, axis=1), \n",
    "    on='clave_unica',\n",
    "    how='left')"
   ]
  },
  {
   "cell_type": "code",
   "execution_count": 80,
   "id": "a0f66a16",
   "metadata": {},
   "outputs": [],
   "source": [
    "simplified_data2.to_csv('./../rulo_mota_omath/data/raw/general_financial_inclusion.csv')"
   ]
  }
 ],
 "metadata": {
  "kernelspec": {
   "display_name": "Python 3",
   "language": "python",
   "name": "python3"
  },
  "language_info": {
   "codemirror_mode": {
    "name": "ipython",
    "version": 3
   },
   "file_extension": ".py",
   "mimetype": "text/x-python",
   "name": "python",
   "nbconvert_exporter": "python",
   "pygments_lexer": "ipython3",
   "version": "3.7.3"
  }
 },
 "nbformat": 4,
 "nbformat_minor": 5
}
